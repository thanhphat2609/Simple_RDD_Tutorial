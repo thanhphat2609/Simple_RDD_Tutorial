{
 "cells": [
  {
   "cell_type": "markdown",
   "id": "2567a92e",
   "metadata": {},
   "source": [
    "# 1. Import libraries and create Spark Session #"
   ]
  },
  {
   "cell_type": "code",
   "execution_count": 1,
   "id": "b1686ec0",
   "metadata": {},
   "outputs": [],
   "source": [
    "from pyspark.sql import SparkSession"
   ]
  },
  {
   "cell_type": "code",
   "execution_count": 2,
   "id": "a7bbd415",
   "metadata": {},
   "outputs": [
    {
     "name": "stderr",
     "output_type": "stream",
     "text": [
      "24/01/23 23:44:58 WARN SparkSession: Using an existing Spark session; only runtime SQL configurations will take effect.\n"
     ]
    }
   ],
   "source": [
    "spark = SparkSession.builder.config('spark.cores.max', \"16\") \\\n",
    "                            .config(\"spark.executor.memory\", \"70g\") \\\n",
    "                            .config(\"spark.driver.memory\", \"50g\") \\\n",
    "                            .config(\"spark.memory.offHeap.enabled\",True) \\\n",
    "                            .config(\"spark.memory.offHeap.size\",\"16g\") \\\n",
    "                            .getOrCreate()"
   ]
  },
  {
   "cell_type": "markdown",
   "id": "53e2632d",
   "metadata": {},
   "source": [
    "# 2. Read csv file into Dataframe and Convert to RDD #"
   ]
  },
  {
   "cell_type": "code",
   "execution_count": 3,
   "id": "5e81a824",
   "metadata": {},
   "outputs": [
    {
     "name": "stdout",
     "output_type": "stream",
     "text": [
      "root\n",
      " |-- Date: date (nullable = true)\n",
      " |-- Open: string (nullable = true)\n",
      " |-- High: string (nullable = true)\n",
      " |-- Low: string (nullable = true)\n",
      " |-- Close: string (nullable = true)\n",
      " |-- Adj Close: string (nullable = true)\n",
      " |-- Volume: string (nullable = true)\n",
      "\n"
     ]
    }
   ],
   "source": [
    "# Read into dataframe\n",
    "df_vcb = spark.read.csv(\"./VCB.csv\", header = True, inferSchema = True)\n",
    "\n",
    "# Print Schema\n",
    "df_vcb.printSchema()"
   ]
  },
  {
   "cell_type": "code",
   "execution_count": 4,
   "id": "2d21feb2",
   "metadata": {},
   "outputs": [
    {
     "name": "stdout",
     "output_type": "stream",
     "text": [
      "+----------+------------+------------+------------+------------+------------+-------+\n",
      "|      Date|        Open|        High|         Low|       Close|   Adj Close| Volume|\n",
      "+----------+------------+------------+------------+------------+------------+-------+\n",
      "|2022-01-24|75698.562500|79170.195313|74682.468750|78746.828125|78746.828125|3221886|\n",
      "|2022-01-25|78323.453125|81287.046875|75359.867188|81117.695313|81117.695313|2830030|\n",
      "|2022-01-26|81117.695313|81117.695313|78408.125000|80016.937500|80016.937500|3108982|\n",
      "|2022-01-27|78746.828125|80016.937500|76545.296875|77053.343750|77053.343750|2046554|\n",
      "|2022-01-28|77053.343750|77900.085938|75359.867188|75359.867188|75359.867188|2528166|\n",
      "|2022-01-31|        null|        null|        null|        null|        null|   null|\n",
      "|2022-02-01|        null|        null|        null|        null|        null|   null|\n",
      "|2022-02-02|        null|        null|        null|        null|        null|   null|\n",
      "|2022-02-03|        null|        null|        null|        null|        null|   null|\n",
      "|2022-02-04|        null|        null|        null|        null|        null|   null|\n",
      "+----------+------------+------------+------------+------------+------------+-------+\n",
      "only showing top 10 rows\n",
      "\n"
     ]
    }
   ],
   "source": [
    "# Show simple data\n",
    "df_vcb.show(10)"
   ]
  },
  {
   "cell_type": "code",
   "execution_count": 5,
   "id": "c73f302c",
   "metadata": {},
   "outputs": [
    {
     "name": "stderr",
     "output_type": "stream",
     "text": [
      "\r",
      "[Stage 3:>                                                          (0 + 1) / 1]\r",
      "\r",
      "                                                                                \r"
     ]
    },
    {
     "data": {
      "text/plain": [
       "[Row(Date=datetime.date(2022, 1, 24), Open='75698.562500', High='79170.195313', Low='74682.468750', Close='78746.828125', Adj Close='78746.828125', Volume='3221886'),\n",
       " Row(Date=datetime.date(2022, 1, 25), Open='78323.453125', High='81287.046875', Low='75359.867188', Close='81117.695313', Adj Close='81117.695313', Volume='2830030'),\n",
       " Row(Date=datetime.date(2022, 1, 26), Open='81117.695313', High='81117.695313', Low='78408.125000', Close='80016.937500', Adj Close='80016.937500', Volume='3108982'),\n",
       " Row(Date=datetime.date(2022, 1, 27), Open='78746.828125', High='80016.937500', Low='76545.296875', Close='77053.343750', Adj Close='77053.343750', Volume='2046554'),\n",
       " Row(Date=datetime.date(2022, 1, 28), Open='77053.343750', High='77900.085938', Low='75359.867188', Close='75359.867188', Adj Close='75359.867188', Volume='2528166'),\n",
       " Row(Date=datetime.date(2022, 1, 31), Open='null', High='null', Low='null', Close='null', Adj Close='null', Volume='null'),\n",
       " Row(Date=datetime.date(2022, 2, 1), Open='null', High='null', Low='null', Close='null', Adj Close='null', Volume='null'),\n",
       " Row(Date=datetime.date(2022, 2, 2), Open='null', High='null', Low='null', Close='null', Adj Close='null', Volume='null'),\n",
       " Row(Date=datetime.date(2022, 2, 3), Open='null', High='null', Low='null', Close='null', Adj Close='null', Volume='null'),\n",
       " Row(Date=datetime.date(2022, 2, 4), Open='null', High='null', Low='null', Close='null', Adj Close='null', Volume='null')]"
      ]
     },
     "execution_count": 5,
     "metadata": {},
     "output_type": "execute_result"
    }
   ],
   "source": [
    "# Convert to RDD\n",
    "rdd_vcb = df_vcb.rdd\n",
    "rdd_vcb.take(10)"
   ]
  },
  {
   "cell_type": "markdown",
   "id": "fd67bb74",
   "metadata": {},
   "source": [
    "# 3. Pre-Processing data #"
   ]
  },
  {
   "cell_type": "code",
   "execution_count": 6,
   "id": "3a7ae1e6",
   "metadata": {},
   "outputs": [
    {
     "name": "stdout",
     "output_type": "stream",
     "text": [
      "Number of rows before Pre-Processing:  521\n"
     ]
    }
   ],
   "source": [
    "# Count before process\n",
    "print(\"Number of rows before Pre-Processing: \", rdd_vcb.count())"
   ]
  },
  {
   "cell_type": "code",
   "execution_count": 7,
   "id": "f688e5f7",
   "metadata": {},
   "outputs": [
    {
     "data": {
      "text/plain": [
       "[Row(Date=datetime.date(2022, 1, 24), Open='75698.562500', High='79170.195313', Low='74682.468750', Close='78746.828125', Adj Close='78746.828125', Volume='3221886'),\n",
       " Row(Date=datetime.date(2022, 1, 25), Open='78323.453125', High='81287.046875', Low='75359.867188', Close='81117.695313', Adj Close='81117.695313', Volume='2830030'),\n",
       " Row(Date=datetime.date(2022, 1, 26), Open='81117.695313', High='81117.695313', Low='78408.125000', Close='80016.937500', Adj Close='80016.937500', Volume='3108982'),\n",
       " Row(Date=datetime.date(2022, 1, 27), Open='78746.828125', High='80016.937500', Low='76545.296875', Close='77053.343750', Adj Close='77053.343750', Volume='2046554'),\n",
       " Row(Date=datetime.date(2022, 1, 28), Open='77053.343750', High='77900.085938', Low='75359.867188', Close='75359.867188', Adj Close='75359.867188', Volume='2528166'),\n",
       " Row(Date=datetime.date(2022, 2, 7), Open='76714.648438', High='78662.148438', Low='75783.234375', Close='78238.781250', Adj Close='78238.781250', Volume='2037933'),\n",
       " Row(Date=datetime.date(2022, 2, 8), Open='78238.781250', High='78238.781250', Low='76291.281250', Close='77900.085938', Adj Close='77900.085938', Volume='1447197'),\n",
       " Row(Date=datetime.date(2022, 2, 9), Open='77222.695313', High='77815.414063', Low='76460.625000', Close='76884.000000', Adj Close='76884.000000', Volume='1904126'),\n",
       " Row(Date=datetime.date(2022, 2, 10), Open='77138.015625', High='79085.523438', Low='77053.343750', Close='77307.367188', Adj Close='77307.367188', Volume='2157923'),\n",
       " Row(Date=datetime.date(2022, 2, 11), Open='77307.367188', High='77561.390625', Low='76206.601563', Close='76206.601563', Adj Close='76206.601563', Volume='20381816')]"
      ]
     },
     "execution_count": 7,
     "metadata": {},
     "output_type": "execute_result"
    }
   ],
   "source": [
    "rdd_vcb = rdd_vcb.filter(lambda row: row.Open != 'null' or row.Close != 'null' or\n",
    "                         row.High != 'null' or row.Volume != 'null')\n",
    "rdd_vcb.take(10)"
   ]
  },
  {
   "cell_type": "code",
   "execution_count": 8,
   "id": "efc16e84",
   "metadata": {},
   "outputs": [
    {
     "name": "stdout",
     "output_type": "stream",
     "text": [
      "Number of rows After Pre-Processing:  492\n"
     ]
    }
   ],
   "source": [
    "# Count before process\n",
    "print(\"Number of rows After Pre-Processing: \", rdd_vcb.count())"
   ]
  },
  {
   "cell_type": "markdown",
   "id": "3ed48573",
   "metadata": {},
   "source": [
    "# 4. Create Simple Linear Regression #"
   ]
  },
  {
   "cell_type": "markdown",
   "id": "46a9d3d8",
   "metadata": {},
   "source": [
    "## Formular predict Close base on Open ##\n",
    "\n",
    "Close = alpha + beta * Open\n",
    "\n",
    "(Yt = alpha + beta * Xt)"
   ]
  },
  {
   "cell_type": "markdown",
   "id": "3832b489",
   "metadata": {},
   "source": [
    "## Step 1: Calculate mean for both Open and Close ##"
   ]
  },
  {
   "cell_type": "code",
   "execution_count": 9,
   "id": "d5a16281",
   "metadata": {},
   "outputs": [],
   "source": [
    "# Function for calculate mean\n",
    "def calculate_mean_rdd(rdd_base, row_name):\n",
    "    # Create specific rdd (Open_rdd, Close_rdd)\n",
    "    specific_rdd = rdd_base.map(lambda x: float(x[row_name]))\n",
    "    \n",
    "    # Find number of rows\n",
    "    number_of_value = specific_rdd.count()\n",
    "    \n",
    "    # Calculate sum value\n",
    "    sum_value = specific_rdd.reduce(lambda x, y: x + y)\n",
    "    \n",
    "    # Mean value\n",
    "    mean = sum_value / number_of_value\n",
    "    \n",
    "    return mean"
   ]
  },
  {
   "cell_type": "code",
   "execution_count": 10,
   "id": "d4fc7a7e",
   "metadata": {},
   "outputs": [
    {
     "data": {
      "text/plain": [
       "75103.89530947953"
      ]
     },
     "execution_count": 10,
     "metadata": {},
     "output_type": "execute_result"
    }
   ],
   "source": [
    "# Calculate average for Close\n",
    "close_mean = calculate_mean_rdd(rdd_vcb, 'Close')\n",
    "close_mean"
   ]
  },
  {
   "cell_type": "code",
   "execution_count": 11,
   "id": "a70769b1",
   "metadata": {},
   "outputs": [
    {
     "data": {
      "text/plain": [
       "75070.28237755678"
      ]
     },
     "execution_count": 11,
     "metadata": {},
     "output_type": "execute_result"
    }
   ],
   "source": [
    "# Calculate average for Open\n",
    "open_mean = calculate_mean_rdd(rdd_vcb, 'Open')\n",
    "open_mean"
   ]
  },
  {
   "cell_type": "markdown",
   "id": "73a9124a",
   "metadata": {},
   "source": [
    "## Step 2: Calculate real_value - mean ##"
   ]
  },
  {
   "cell_type": "code",
   "execution_count": 12,
   "id": "ab9e4923",
   "metadata": {},
   "outputs": [],
   "source": [
    "# Function for calculate real_value - mean_value for each columns\n",
    "def calculate_real_minus_mean(rdd_base, row_name, mean):\n",
    "    # Calculate\n",
    "    rdd_real_mean = rdd_base.map(lambda x: float(x[row_name]) - mean)\n",
    "    \n",
    "    return rdd_real_mean"
   ]
  },
  {
   "cell_type": "code",
   "execution_count": 13,
   "id": "e33241c3",
   "metadata": {},
   "outputs": [
    {
     "data": {
      "text/plain": [
       "[3642.932815520471,\n",
       " 6013.800003520475,\n",
       " 4913.042190520471,\n",
       " 1949.4484405204712,\n",
       " 255.971878520475,\n",
       " 3134.885940520471,\n",
       " 2796.190628520475,\n",
       " 1780.1046905204712,\n",
       " 2203.471878520475,\n",
       " 1102.706253520475]"
      ]
     },
     "execution_count": 13,
     "metadata": {},
     "output_type": "execute_result"
    }
   ],
   "source": [
    "close_real_mean_rdd = calculate_real_minus_mean(rdd_vcb, 'Close', close_mean)\n",
    "close_real_mean_rdd.take(10)"
   ]
  },
  {
   "cell_type": "code",
   "execution_count": 14,
   "id": "2214b038",
   "metadata": {},
   "outputs": [
    {
     "data": {
      "text/plain": [
       "[628.2801224432187,\n",
       " 3253.1707474432187,\n",
       " 6047.4129354432225,\n",
       " 3676.5457474432187,\n",
       " 1983.0613724432187,\n",
       " 1644.3660604432225,\n",
       " 3168.4988724432187,\n",
       " 2152.4129354432225,\n",
       " 2067.7332474432187,\n",
       " 2237.0848104432225]"
      ]
     },
     "execution_count": 14,
     "metadata": {},
     "output_type": "execute_result"
    }
   ],
   "source": [
    "open_real_mean_rdd = calculate_real_minus_mean(rdd_vcb, 'Open', open_mean)\n",
    "open_real_mean_rdd.take(10)"
   ]
  },
  {
   "cell_type": "markdown",
   "id": "36509c8d",
   "metadata": {},
   "source": [
    "## Step 3: Calculate Alpha and Beta ##"
   ]
  },
  {
   "cell_type": "code",
   "execution_count": 24,
   "id": "3e2c8f7c",
   "metadata": {},
   "outputs": [],
   "source": [
    "# Function for calculate beta\n",
    "def calculate_beta(ytb_rdd, xtb_rdd):\n",
    "    # Filter out non-numeric values and convert to float\n",
    "    ytb_rdd_filtered = ytb_rdd.map(lambda x: float(x))\n",
    "    xtb_rdd_filtered = xtb_rdd.map(lambda x: float(x))\n",
    "\n",
    "    # Calculate Denominator_Beta\n",
    "    denominator_beta = xtb_rdd_filtered.map(lambda x: x * x).sum()\n",
    "\n",
    "    # Calculate Numerator_Beta\n",
    "    combined_rdd = ytb_rdd_filtered.zip(xtb_rdd_filtered)\n",
    "    numerator_beta = combined_rdd.map(lambda x: x[0] * x[1]).sum()\n",
    "\n",
    "    # Calculate Beta (Numerator_Beta / Denominator_Beta)\n",
    "    beta = numerator_beta / denominator_beta\n",
    "\n",
    "    return beta"
   ]
  },
  {
   "cell_type": "code",
   "execution_count": 25,
   "id": "92346a42",
   "metadata": {},
   "outputs": [
    {
     "data": {
      "text/plain": [
       "1.0004552459956448"
      ]
     },
     "execution_count": 25,
     "metadata": {},
     "output_type": "execute_result"
    }
   ],
   "source": [
    "beta = calculate_beta(close_real_mean_rdd, open_real_mean_rdd)\n",
    "beta"
   ]
  },
  {
   "cell_type": "code",
   "execution_count": 26,
   "id": "8c9fba38",
   "metadata": {},
   "outputs": [],
   "source": [
    "# Function for calculate alpha\n",
    "def calculate_alpha(ytb, xtb, beta):\n",
    "    return (ytb - xtb * beta)"
   ]
  },
  {
   "cell_type": "code",
   "execution_count": 27,
   "id": "e15efef0",
   "metadata": {},
   "outputs": [
    {
     "data": {
      "text/plain": [
       "-0.5625135215668706"
      ]
     },
     "execution_count": 27,
     "metadata": {},
     "output_type": "execute_result"
    }
   ],
   "source": [
    "alpha = calculate_alpha(close_mean, open_mean, beta)\n",
    "alpha"
   ]
  },
  {
   "cell_type": "markdown",
   "id": "d9e24c15",
   "metadata": {},
   "source": [
    "# 5. Predict new value #\n",
    "\n",
    "**Close = -0.5625135215668706 + 1.0004552459956448 * Open**"
   ]
  },
  {
   "cell_type": "code",
   "execution_count": 28,
   "id": "39888e65",
   "metadata": {},
   "outputs": [
    {
     "name": "stdout",
     "output_type": "stream",
     "text": [
      "Predict value for Close base on Open 3000 là: 3000.8032244653677\n",
      "Predict value for Close base on Open 3500 là: 3501.03084746319\n",
      "Predict value for Close base on Open 4000 là: 4001.2584704610126\n",
      "Predict value for Close base on Open 4500 là: 4501.486093458835\n",
      "Predict value for Close base on Open 5000 là: 5001.7137164566575\n"
     ]
    }
   ],
   "source": [
    "# New open\n",
    "new_open_values = [3000, 3500, 4000, 4500, 5000]\n",
    "\n",
    "# Predict_Close\n",
    "def predict_close(open_value):\n",
    "    return -0.5625135215668706 + 1.0004552459956448 * open_value\n",
    "\n",
    "# Predict\n",
    "predicted_closes = [predict_close(open_value) for open_value in new_open_values]\n",
    "\n",
    "# Result\n",
    "for i in range(len(new_open_values)):\n",
    "    print(f'Predict value for Close base on Open {new_open_values[i]} là: {predicted_closes[i]}')"
   ]
  }
 ],
 "metadata": {
  "kernelspec": {
   "display_name": "Python 3 (ipykernel)",
   "language": "python",
   "name": "python3"
  },
  "language_info": {
   "codemirror_mode": {
    "name": "ipython",
    "version": 3
   },
   "file_extension": ".py",
   "mimetype": "text/x-python",
   "name": "python",
   "nbconvert_exporter": "python",
   "pygments_lexer": "ipython3",
   "version": "3.10.12"
  }
 },
 "nbformat": 4,
 "nbformat_minor": 5
}
