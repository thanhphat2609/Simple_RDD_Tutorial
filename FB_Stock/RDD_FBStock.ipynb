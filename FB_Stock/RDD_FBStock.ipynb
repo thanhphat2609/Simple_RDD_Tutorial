{
 "cells": [
  {
   "cell_type": "markdown",
   "id": "b97cc02d",
   "metadata": {},
   "source": [
    "# 1. Read Facebook stock into dataframe #"
   ]
  },
  {
   "cell_type": "code",
   "execution_count": 1,
   "id": "9052fe84",
   "metadata": {},
   "outputs": [],
   "source": [
    "from pyspark.sql import SparkSession"
   ]
  },
  {
   "cell_type": "code",
   "execution_count": 2,
   "id": "6d33aa2b",
   "metadata": {},
   "outputs": [
    {
     "name": "stderr",
     "output_type": "stream",
     "text": [
      "24/01/23 22:02:18 WARN SparkSession: Using an existing Spark session; only runtime SQL configurations will take effect.\n"
     ]
    }
   ],
   "source": [
    "spark = SparkSession.builder.config('spark.cores.max', \"16\") \\\n",
    "                            .config(\"spark.executor.memory\", \"70g\") \\\n",
    "                            .config(\"spark.driver.memory\", \"50g\") \\\n",
    "                            .config(\"spark.memory.offHeap.enabled\",True) \\\n",
    "                            .config(\"spark.memory.offHeap.size\",\"16g\") \\\n",
    "                            .getOrCreate()"
   ]
  },
  {
   "cell_type": "code",
   "execution_count": 3,
   "id": "6999974f",
   "metadata": {},
   "outputs": [
    {
     "name": "stderr",
     "output_type": "stream",
     "text": [
      "\r",
      "[Stage 0:>                                                          (0 + 1) / 1]\r",
      "\r",
      "                                                                                \r"
     ]
    },
    {
     "name": "stdout",
     "output_type": "stream",
     "text": [
      "root\n",
      " |-- Date: date (nullable = true)\n",
      " |-- Open: double (nullable = true)\n",
      " |-- High: double (nullable = true)\n",
      " |-- Low: double (nullable = true)\n",
      " |-- Close: double (nullable = true)\n",
      " |-- Adj Close: double (nullable = true)\n",
      " |-- Volume: integer (nullable = true)\n",
      "\n"
     ]
    }
   ],
   "source": [
    "df_fb_stock = spark.read.csv(\"./FB.csv\", header = True, inferSchema = True)\n",
    "df_fb_stock.printSchema()"
   ]
  },
  {
   "cell_type": "code",
   "execution_count": 4,
   "id": "09cfc6db",
   "metadata": {},
   "outputs": [
    {
     "name": "stdout",
     "output_type": "stream",
     "text": [
      "+----------+----------+----------+----------+----------+----------+--------+\n",
      "|      Date|      Open|      High|       Low|     Close| Adj Close|  Volume|\n",
      "+----------+----------+----------+----------+----------+----------+--------+\n",
      "|2018-05-23|     182.5|186.910004|182.179993|186.899994|186.899994|16628100|\n",
      "|2018-05-24|185.880005|186.800003|185.029999|185.929993|185.929993|12354700|\n",
      "|2018-05-25|186.020004|186.330002|184.449997|184.919998|184.919998|10965100|\n",
      "|2018-05-29|184.339996|186.809998|183.710007|185.740005|185.740005|16398900|\n",
      "|2018-05-30|186.539993|     188.0|    185.25|187.669998|187.669998|13736900|\n",
      "|2018-05-31|187.869995|192.720001|187.479996|191.779999|191.779999|30782600|\n",
      "|2018-06-01|193.070007|194.550003|192.070007|193.990005|193.990005|17307200|\n",
      "|2018-06-04|191.839996|193.979996|191.470001|193.279999|193.279999|18939800|\n",
      "|2018-06-05|194.300003|     195.0|192.619995|192.940002|192.940002|15544300|\n",
      "|2018-06-06|191.029999|192.529999|189.110001|191.339996|191.339996|22558900|\n",
      "+----------+----------+----------+----------+----------+----------+--------+\n",
      "only showing top 10 rows\n",
      "\n"
     ]
    }
   ],
   "source": [
    "df_fb_stock.show(10)"
   ]
  },
  {
   "cell_type": "markdown",
   "id": "bad668e9",
   "metadata": {},
   "source": [
    "# 2. Create RDD from Dataframe # "
   ]
  },
  {
   "cell_type": "code",
   "execution_count": 5,
   "id": "4cd9844d",
   "metadata": {},
   "outputs": [],
   "source": [
    "rdd_fb_stock = df_fb_stock.rdd"
   ]
  },
  {
   "cell_type": "markdown",
   "id": "c482cc91",
   "metadata": {},
   "source": [
    "## 2.1. Show example data ##"
   ]
  },
  {
   "cell_type": "code",
   "execution_count": 6,
   "id": "60e6157c",
   "metadata": {
    "scrolled": true
   },
   "outputs": [
    {
     "name": "stderr",
     "output_type": "stream",
     "text": [
      "\r",
      "[Stage 3:>                                                          (0 + 1) / 1]\r",
      "\r",
      "                                                                                \r"
     ]
    },
    {
     "data": {
      "text/plain": [
       "[Row(Date=datetime.date(2018, 5, 23), Open=182.5, High=186.910004, Low=182.179993, Close=186.899994, Adj Close=186.899994, Volume=16628100),\n",
       " Row(Date=datetime.date(2018, 5, 24), Open=185.880005, High=186.800003, Low=185.029999, Close=185.929993, Adj Close=185.929993, Volume=12354700),\n",
       " Row(Date=datetime.date(2018, 5, 25), Open=186.020004, High=186.330002, Low=184.449997, Close=184.919998, Adj Close=184.919998, Volume=10965100),\n",
       " Row(Date=datetime.date(2018, 5, 29), Open=184.339996, High=186.809998, Low=183.710007, Close=185.740005, Adj Close=185.740005, Volume=16398900),\n",
       " Row(Date=datetime.date(2018, 5, 30), Open=186.539993, High=188.0, Low=185.25, Close=187.669998, Adj Close=187.669998, Volume=13736900)]"
      ]
     },
     "execution_count": 6,
     "metadata": {},
     "output_type": "execute_result"
    }
   ],
   "source": [
    "rdd_fb_stock.take(5)"
   ]
  },
  {
   "cell_type": "markdown",
   "id": "b723bfe4",
   "metadata": {},
   "source": [
    "## 2.2. Count how many data in RDD ## "
   ]
  },
  {
   "cell_type": "code",
   "execution_count": 7,
   "id": "a5902e7d",
   "metadata": {},
   "outputs": [
    {
     "data": {
      "text/plain": [
       "252"
      ]
     },
     "execution_count": 7,
     "metadata": {},
     "output_type": "execute_result"
    }
   ],
   "source": [
    "rdd_fb_stock.count()"
   ]
  },
  {
   "cell_type": "markdown",
   "id": "e538e11a",
   "metadata": {},
   "source": [
    "# 3. Analytics with RDD #"
   ]
  },
  {
   "cell_type": "markdown",
   "id": "0832708a",
   "metadata": {},
   "source": [
    "## 3.1. Max, min, value_count, average of Open ##"
   ]
  },
  {
   "cell_type": "code",
   "execution_count": 8,
   "id": "a8295fd4",
   "metadata": {},
   "outputs": [
    {
     "data": {
      "text/plain": [
       "[182.5,\n",
       " 185.880005,\n",
       " 186.020004,\n",
       " 184.339996,\n",
       " 186.539993,\n",
       " 187.869995,\n",
       " 193.070007,\n",
       " 191.839996,\n",
       " 194.300003,\n",
       " 191.029999]"
      ]
     },
     "execution_count": 8,
     "metadata": {},
     "output_type": "execute_result"
    }
   ],
   "source": [
    "# Create open rdd\n",
    "open_rdd = rdd_fb_stock.map(lambda row: row.Open)\n",
    "open_rdd.take(10)"
   ]
  },
  {
   "cell_type": "code",
   "execution_count": 9,
   "id": "195e2ac0",
   "metadata": {},
   "outputs": [
    {
     "name": "stdout",
     "output_type": "stream",
     "text": [
      "Open max value:  215.720001\n",
      "Open min value:  123.099998\n"
     ]
    }
   ],
   "source": [
    "# Find max value\n",
    "print(\"Open max value: \", open_rdd.max())\n",
    "\n",
    "# Find min value\n",
    "print(\"Open min value: \", open_rdd.min())"
   ]
  },
  {
   "cell_type": "code",
   "execution_count": 10,
   "id": "9c027dc1",
   "metadata": {},
   "outputs": [
    {
     "data": {
      "text/plain": [
       "defaultdict(int,\n",
       "            {182.5: 1,\n",
       "             185.880005: 1,\n",
       "             186.020004: 1,\n",
       "             184.339996: 1,\n",
       "             186.539993: 1,\n",
       "             187.869995: 1,\n",
       "             193.070007: 1,\n",
       "             191.839996: 1,\n",
       "             194.300003: 1,\n",
       "             191.029999: 1,\n",
       "             190.75: 1,\n",
       "             187.529999: 1,\n",
       "             188.809998: 1,\n",
       "             192.169998: 1,\n",
       "             192.740005: 1,\n",
       "             193.100006: 1,\n",
       "             195.789993: 1,\n",
       "             194.800003: 1,\n",
       "             196.240005: 1,\n",
       "             199.100006: 1,\n",
       "             202.759995: 1,\n",
       "             201.160004: 1,\n",
       "             200.0: 1,\n",
       "             197.600006: 1,\n",
       "             199.179993: 1,\n",
       "             195.179993: 1,\n",
       "             197.320007: 1,\n",
       "             193.369995: 1,\n",
       "             194.550003: 1,\n",
       "             194.740005: 1,\n",
       "             198.449997: 1,\n",
       "             204.929993: 1,\n",
       "             204.5: 1,\n",
       "             202.220001: 1,\n",
       "             203.429993: 1,\n",
       "             207.809998: 1,\n",
       "             207.5: 1,\n",
       "             204.899994: 1,\n",
       "             209.820007: 1,\n",
       "             208.770004: 1,\n",
       "             208.850006: 1,\n",
       "             210.580002: 1,\n",
       "             215.110001: 1,\n",
       "             215.720001: 1,\n",
       "             174.889999: 1,\n",
       "             179.869995: 1,\n",
       "             175.300003: 1,\n",
       "             170.669998: 1,\n",
       "             173.929993: 1,\n",
       "             170.679993: 1,\n",
       "             177.690002: 1,\n",
       "             178.970001: 1,\n",
       "             186.5: 1,\n",
       "             184.75: 1,\n",
       "             185.850006: 1,\n",
       "             182.039993: 1,\n",
       "             180.100006: 1,\n",
       "             180.710007: 1,\n",
       "             179.339996: 1,\n",
       "             180.419998: 2,\n",
       "             174.5: 2,\n",
       "             174.039993: 1,\n",
       "             172.809998: 1,\n",
       "             172.210007: 1,\n",
       "             173.089996: 1,\n",
       "             173.699997: 1,\n",
       "             175.990005: 1,\n",
       "             178.100006: 1,\n",
       "             176.300003: 1,\n",
       "             175.899994: 1,\n",
       "             177.149994: 1,\n",
       "             173.5: 1,\n",
       "             169.490005: 1,\n",
       "             166.979996: 1,\n",
       "             160.309998: 1,\n",
       "             163.509995: 1,\n",
       "             163.940002: 1,\n",
       "             163.25: 1,\n",
       "             162.0: 1,\n",
       "             161.720001: 1,\n",
       "             161.919998: 1,\n",
       "             159.389999: 1,\n",
       "             160.080002: 1,\n",
       "             164.5: 1,\n",
       "             166.639999: 1,\n",
       "             161.029999: 1,\n",
       "             161.990005: 1,\n",
       "             164.300003: 1,\n",
       "             167.550003: 1,\n",
       "             168.330002: 1,\n",
       "             163.029999: 1,\n",
       "             161.580002: 1,\n",
       "             160.0: 1,\n",
       "             161.460007: 1,\n",
       "             159.210007: 1,\n",
       "             155.539993: 1,\n",
       "             157.690002: 1,\n",
       "             156.820007: 1,\n",
       "             150.130005: 1,\n",
       "             156.729996: 1,\n",
       "             153.320007: 1,\n",
       "             155.399994: 1,\n",
       "             159.559998: 1,\n",
       "             158.509995: 1,\n",
       "             155.860001: 1,\n",
       "             154.759995: 1,\n",
       "             151.220001: 1,\n",
       "             154.279999: 1,\n",
       "             147.729996: 1,\n",
       "             145.820007: 1,\n",
       "             148.5: 1,\n",
       "             139.940002: 1,\n",
       "             155.0: 1,\n",
       "             151.520004: 1,\n",
       "             151.800003: 1,\n",
       "             150.100006: 1,\n",
       "             149.309998: 1,\n",
       "             151.570007: 1,\n",
       "             150.490005: 1,\n",
       "             146.75: 1,\n",
       "             144.479996: 1,\n",
       "             142.0: 2,\n",
       "             143.699997: 1,\n",
       "             142.330002: 1,\n",
       "             141.070007: 1,\n",
       "             137.610001: 1,\n",
       "             127.029999: 1,\n",
       "             134.399994: 1,\n",
       "             133.649994: 1,\n",
       "             133.0: 1,\n",
       "             135.75: 1,\n",
       "             136.279999: 1,\n",
       "             135.919998: 1,\n",
       "             138.259995: 1,\n",
       "             143.0: 1,\n",
       "             140.729996: 1,\n",
       "             133.820007: 1,\n",
       "             139.25: 1,\n",
       "             139.600006: 1,\n",
       "             143.880005: 1,\n",
       "             143.080002: 3,\n",
       "             145.570007: 1,\n",
       "             143.339996: 1,\n",
       "             141.080002: 1,\n",
       "             141.210007: 1,\n",
       "             130.699997: 1,\n",
       "             133.389999: 1,\n",
       "             123.099998: 1,\n",
       "             126.0: 1,\n",
       "             132.440002: 1,\n",
       "             135.339996: 1,\n",
       "             134.449997: 1,\n",
       "             128.990005: 1,\n",
       "             134.690002: 1,\n",
       "             134.009995: 1,\n",
       "             137.559998: 1,\n",
       "             139.889999: 1,\n",
       "             142.949997: 1,\n",
       "             143.149994: 1,\n",
       "             146.009995: 1,\n",
       "             149.0: 1,\n",
       "             146.949997: 1,\n",
       "             149.75: 1,\n",
       "             149.199997: 1,\n",
       "             148.279999: 1,\n",
       "             144.639999: 1,\n",
       "             147.479996: 1,\n",
       "             148.050003: 1,\n",
       "             148.089996: 1,\n",
       "             146.220001: 1,\n",
       "             165.600006: 1,\n",
       "             165.839996: 1,\n",
       "             165.699997: 1,\n",
       "             169.149994: 1,\n",
       "             171.199997: 1,\n",
       "             168.199997: 1,\n",
       "             164.470001: 1,\n",
       "             167.899994: 1,\n",
       "             166.860001: 1,\n",
       "             165.380005: 1,\n",
       "             163.190002: 1,\n",
       "             164.509995: 1,\n",
       "             160.5: 1,\n",
       "             162.25: 1,\n",
       "             161.929993: 1,\n",
       "             160.580002: 1,\n",
       "             163.070007: 1,\n",
       "             164.339996: 1,\n",
       "             162.899994: 1,\n",
       "             162.369995: 1,\n",
       "             162.600006: 1,\n",
       "             163.899994: 1,\n",
       "             167.369995: 1,\n",
       "             172.899994: 1,\n",
       "             171.5: 1,\n",
       "             166.199997: 1,\n",
       "             171.600006: 1,\n",
       "             172.089996: 1,\n",
       "             172.320007: 1,\n",
       "             169.759995: 1,\n",
       "             167.160004: 1,\n",
       "             163.570007: 1,\n",
       "             161.479996: 1,\n",
       "             161.5: 1,\n",
       "             164.889999: 1,\n",
       "             165.649994: 1,\n",
       "             163.0: 1,\n",
       "             167.350006: 1,\n",
       "             167.850006: 1,\n",
       "             164.570007: 1,\n",
       "             166.389999: 1,\n",
       "             167.830002: 1,\n",
       "             170.139999: 1,\n",
       "             176.020004: 1,\n",
       "             176.880005: 1,\n",
       "             175.210007: 1,\n",
       "             175.619995: 1,\n",
       "             178.179993: 1,\n",
       "             178.240005: 1,\n",
       "             178.0: 1,\n",
       "             178.5: 1,\n",
       "             179.0: 1,\n",
       "             179.600006: 1,\n",
       "             178.800003: 1,\n",
       "             178.25: 1,\n",
       "             182.740005: 1,\n",
       "             184.490005: 1,\n",
       "             196.979996: 1,\n",
       "             192.5: 1,\n",
       "             190.949997: 1,\n",
       "             194.190002: 1,\n",
       "             194.779999: 1,\n",
       "             193.0: 1,\n",
       "             194.380005: 1,\n",
       "             191.240005: 1,\n",
       "             192.539993: 1,\n",
       "             189.389999: 1,\n",
       "             187.199997: 1,\n",
       "             188.25: 1,\n",
       "             183.5: 1,\n",
       "             182.520004: 1,\n",
       "             185.050003: 1,\n",
       "             184.839996: 1,\n",
       "             181.880005: 1,\n",
       "             184.570007: 1,\n",
       "             184.729996: 1,\n",
       "             182.419998: 1})"
      ]
     },
     "execution_count": 10,
     "metadata": {},
     "output_type": "execute_result"
    }
   ],
   "source": [
    "# Value count for open\n",
    "value_count_open = open_rdd.countByValue()\n",
    "value_count_open"
   ]
  },
  {
   "cell_type": "code",
   "execution_count": 11,
   "id": "f531e6fb",
   "metadata": {},
   "outputs": [
    {
     "data": {
      "image/png": "[encoded data removed]",
      "text/plain": [
       "<Figure size 1080x432 with 1 Axes>"
      ]
     },
     "metadata": {
      "needs_background": "light"
     },
     "output_type": "display_data"
    }
   ],
   "source": [
    "# Histogram for Open\n",
    "import matplotlib.pyplot as plt\n",
    "\n",
    "# Extract keys (ratings) and values (counts) from defaultdict\n",
    "open_price, counts = zip(*value_count_open.items())\n",
    "\n",
    "# Set a larger figure size\n",
    "plt.figure(figsize=(15, 6))\n",
    "\n",
    "# Plot bar chart\n",
    "plt.bar(open_price, counts, color='blue')\n",
    "plt.xlabel('Open Price')\n",
    "plt.ylabel('Count')\n",
    "plt.title('Open Price Distribution')\n",
    "plt.show()"
   ]
  },
  {
   "cell_type": "code",
   "execution_count": 12,
   "id": "96f6f601",
   "metadata": {},
   "outputs": [
    {
     "name": "stdout",
     "output_type": "stream",
     "text": [
      "Sum of open:  42387.88001999997\n",
      "Average of open:  168.20587309523796\n"
     ]
    }
   ],
   "source": [
    "# Find the average of Open\n",
    "    # Sum value\n",
    "open_sum = open_rdd.reduce(lambda x, y: x + y)\n",
    "print(\"Sum of open: \", open_sum)\n",
    "    # Average\n",
    "open_average = open_sum/open_rdd.count()\n",
    "print(\"Average of open: \", open_average)"
   ]
  },
  {
   "cell_type": "markdown",
   "id": "a1476bcc",
   "metadata": {},
   "source": [
    "## 3.2. Max, min, value_count, average of Close ##"
   ]
  },
  {
   "cell_type": "code",
   "execution_count": 13,
   "id": "566afe7a",
   "metadata": {},
   "outputs": [
    {
     "data": {
      "text/plain": [
       "[186.899994,\n",
       " 185.929993,\n",
       " 184.919998,\n",
       " 185.740005,\n",
       " 187.669998,\n",
       " 191.779999,\n",
       " 193.990005,\n",
       " 193.279999,\n",
       " 192.940002,\n",
       " 191.339996]"
      ]
     },
     "execution_count": 13,
     "metadata": {},
     "output_type": "execute_result"
    }
   ],
   "source": [
    "# Create Close rdd\n",
    "close_rdd = rdd_fb_stock.map(lambda row: row.Close)\n",
    "close_rdd.take(10)"
   ]
  },
  {
   "cell_type": "code",
   "execution_count": 14,
   "id": "573a87d5",
   "metadata": {},
   "outputs": [
    {
     "name": "stdout",
     "output_type": "stream",
     "text": [
      "Close max value:  217.5\n",
      "Close min value:  124.059998\n"
     ]
    }
   ],
   "source": [
    "# Find the max value for Close\n",
    "print(\"Close max value: \", close_rdd.max())\n",
    "\n",
    "# Find the min value for Close\n",
    "print(\"Close min value: \", close_rdd.min())"
   ]
  },
  {
   "cell_type": "code",
   "execution_count": 15,
   "id": "b2d48bc7",
   "metadata": {},
   "outputs": [
    {
     "data": {
      "text/plain": [
       "defaultdict(int,\n",
       "            {186.899994: 1,\n",
       "             185.929993: 1,\n",
       "             184.919998: 1,\n",
       "             185.740005: 1,\n",
       "             187.669998: 1,\n",
       "             191.779999: 1,\n",
       "             193.990005: 1,\n",
       "             193.279999: 1,\n",
       "             192.940002: 1,\n",
       "             191.339996: 1,\n",
       "             188.179993: 1,\n",
       "             189.100006: 1,\n",
       "             191.539993: 1,\n",
       "             192.399994: 1,\n",
       "             192.410004: 1,\n",
       "             196.809998: 1,\n",
       "             195.850006: 1,\n",
       "             198.309998: 1,\n",
       "             197.490005: 1,\n",
       "             202.0: 1,\n",
       "             201.5: 1,\n",
       "             201.740005: 1,\n",
       "             196.350006: 1,\n",
       "             199.0: 1,\n",
       "             195.839996: 1,\n",
       "             196.229996: 1,\n",
       "             194.320007: 1,\n",
       "             197.360001: 1,\n",
       "             192.729996: 1,\n",
       "             198.449997: 1,\n",
       "             203.229996: 1,\n",
       "             204.740005: 1,\n",
       "             203.539993: 1,\n",
       "             202.539993: 1,\n",
       "             206.919998: 1,\n",
       "             207.320007: 1,\n",
       "             207.229996: 1,\n",
       "             209.990005: 1,\n",
       "             209.360001: 1,\n",
       "             208.089996: 1,\n",
       "             209.940002: 1,\n",
       "             210.910004: 1,\n",
       "             214.669998: 1,\n",
       "             217.5: 1,\n",
       "             176.259995: 2,\n",
       "             174.889999: 1,\n",
       "             171.059998: 1,\n",
       "             172.580002: 1,\n",
       "             171.649994: 1,\n",
       "             176.369995: 1,\n",
       "             177.779999: 1,\n",
       "             185.690002: 1,\n",
       "             183.809998: 1,\n",
       "             185.179993: 1,\n",
       "             183.089996: 1,\n",
       "             180.259995: 1,\n",
       "             180.050003: 1,\n",
       "             181.110001: 1,\n",
       "             179.529999: 1,\n",
       "             174.699997: 1,\n",
       "             173.800003: 1,\n",
       "             172.5: 1,\n",
       "             172.619995: 1,\n",
       "             173.639999: 1,\n",
       "             172.899994: 1,\n",
       "             174.649994: 1,\n",
       "             177.460007: 1,\n",
       "             175.899994: 1,\n",
       "             177.639999: 1,\n",
       "             175.729996: 1,\n",
       "             171.160004: 2,\n",
       "             167.179993: 1,\n",
       "             162.529999: 1,\n",
       "             163.039993: 1,\n",
       "             164.179993: 1,\n",
       "             165.940002: 1,\n",
       "             162.0: 1,\n",
       "             161.360001: 1,\n",
       "             162.320007: 1,\n",
       "             160.580002: 1,\n",
       "             160.300003: 1,\n",
       "             163.059998: 1,\n",
       "             166.020004: 1,\n",
       "             162.929993: 1,\n",
       "             165.410004: 1,\n",
       "             164.910004: 1,\n",
       "             166.949997: 1,\n",
       "             168.839996: 1,\n",
       "             164.460007: 1,\n",
       "             162.440002: 1,\n",
       "             159.330002: 1,\n",
       "             162.429993: 1,\n",
       "             158.850006: 1,\n",
       "             157.330002: 1,\n",
       "             157.25: 1,\n",
       "             157.899994: 1,\n",
       "             151.380005: 1,\n",
       "             153.350006: 1,\n",
       "             153.740005: 1,\n",
       "             153.520004: 1,\n",
       "             158.779999: 1,\n",
       "             159.419998: 1,\n",
       "             154.919998: 1,\n",
       "             154.050003: 1,\n",
       "             154.779999: 1,\n",
       "             154.389999: 1,\n",
       "             146.039993: 1,\n",
       "             150.949997: 1,\n",
       "             145.369995: 1,\n",
       "             142.089996: 1,\n",
       "             146.220001: 1,\n",
       "             151.789993: 1,\n",
       "             151.75: 1,\n",
       "             150.350006: 1,\n",
       "             148.679993: 1,\n",
       "             149.940002: 1,\n",
       "             151.529999: 1,\n",
       "             147.869995: 1,\n",
       "             144.960007: 1,\n",
       "             141.550003: 1,\n",
       "             142.160004: 1,\n",
       "             144.220001: 1,\n",
       "             143.850006: 1,\n",
       "             139.529999: 1,\n",
       "             131.550003: 1,\n",
       "             132.429993: 1,\n",
       "             134.820007: 1,\n",
       "             131.729996: 1,\n",
       "             136.380005: 1,\n",
       "             135.0: 1,\n",
       "             136.759995: 1,\n",
       "             138.679993: 1,\n",
       "             140.610001: 1,\n",
       "             141.089996: 1,\n",
       "             137.929993: 1,\n",
       "             139.630005: 1,\n",
       "             137.419998: 1,\n",
       "             141.850006: 1,\n",
       "             142.080002: 1,\n",
       "             144.5: 1,\n",
       "             145.009995: 1,\n",
       "             144.059998: 1,\n",
       "             140.190002: 1,\n",
       "             143.660004: 1,\n",
       "             133.240005: 1,\n",
       "             133.399994: 1,\n",
       "             124.949997: 1,\n",
       "             124.059998: 1,\n",
       "             134.179993: 1,\n",
       "             134.520004: 1,\n",
       "             133.199997: 1,\n",
       "             131.089996: 1,\n",
       "             135.679993: 1,\n",
       "             131.740005: 1,\n",
       "             137.949997: 1,\n",
       "             138.050003: 1,\n",
       "             142.529999: 1,\n",
       "             144.229996: 1,\n",
       "             144.199997: 1,\n",
       "             143.800003: 1,\n",
       "             145.389999: 1,\n",
       "             148.949997: 1,\n",
       "             147.539993: 1,\n",
       "             148.300003: 1,\n",
       "             150.039993: 1,\n",
       "             147.570007: 1,\n",
       "             144.300003: 1,\n",
       "             145.830002: 1,\n",
       "             149.009995: 1,\n",
       "             147.470001: 1,\n",
       "             144.190002: 1,\n",
       "             150.419998: 1,\n",
       "             166.690002: 2,\n",
       "             165.710007: 1,\n",
       "             169.25: 1,\n",
       "             170.490005: 1,\n",
       "             166.380005: 1,\n",
       "             167.330002: 1,\n",
       "             165.789993: 1,\n",
       "             165.039993: 1,\n",
       "             164.070007: 1,\n",
       "             163.949997: 1,\n",
       "             162.5: 1,\n",
       "             162.289993: 1,\n",
       "             162.559998: 1,\n",
       "             160.039993: 1,\n",
       "             161.889999: 1,\n",
       "             164.619995: 1,\n",
       "             164.130005: 1,\n",
       "             162.809998: 1,\n",
       "             161.449997: 1,\n",
       "             162.279999: 1,\n",
       "             167.369995: 1,\n",
       "             171.259995: 1,\n",
       "             172.509995: 1,\n",
       "             169.130005: 1,\n",
       "             169.600006: 1,\n",
       "             172.070007: 1,\n",
       "             171.919998: 1,\n",
       "             173.369995: 1,\n",
       "             170.169998: 1,\n",
       "             165.979996: 1,\n",
       "             160.470001: 1,\n",
       "             161.570007: 1,\n",
       "             165.440002: 1,\n",
       "             166.080002: 1,\n",
       "             164.339996: 1,\n",
       "             166.289993: 1,\n",
       "             167.679993: 1,\n",
       "             165.869995: 1,\n",
       "             165.550003: 1,\n",
       "             168.699997: 1,\n",
       "             174.199997: 1,\n",
       "             173.539993: 1,\n",
       "             176.020004: 1,\n",
       "             175.720001: 1,\n",
       "             174.929993: 1,\n",
       "             177.580002: 1,\n",
       "             177.820007: 1,\n",
       "             177.509995: 1,\n",
       "             179.100006: 1,\n",
       "             179.649994: 1,\n",
       "             178.869995: 1,\n",
       "             178.779999: 1,\n",
       "             178.279999: 1,\n",
       "             181.440002: 1,\n",
       "             183.779999: 1,\n",
       "             182.580002: 1,\n",
       "             193.259995: 1,\n",
       "             191.490005: 1,\n",
       "             194.779999: 1,\n",
       "             193.399994: 1,\n",
       "             193.029999: 1,\n",
       "             192.529999: 1,\n",
       "             195.470001: 1,\n",
       "             193.880005: 1,\n",
       "             189.770004: 1,\n",
       "             189.539993: 1,\n",
       "             188.649994: 1,\n",
       "             188.339996: 1,\n",
       "             181.539993: 1,\n",
       "             180.729996: 1,\n",
       "             186.270004: 1,\n",
       "             186.990005: 1,\n",
       "             185.300003: 1,\n",
       "             182.720001: 1,\n",
       "             184.820007: 1,\n",
       "             185.320007: 1,\n",
       "             180.460007: 1})"
      ]
     },
     "execution_count": 15,
     "metadata": {},
     "output_type": "execute_result"
    }
   ],
   "source": [
    "# Value count for Close\n",
    "value_count_close = close_rdd.countByValue()\n",
    "value_count_close"
   ]
  },
  {
   "cell_type": "code",
   "execution_count": 16,
   "id": "a7e36cb9",
   "metadata": {},
   "outputs": [
    {
     "data": {
      "image/png": "[encoded data removed]",
      "text/plain": [
       "<Figure size 1080x432 with 1 Axes>"
      ]
     },
     "metadata": {
      "needs_background": "light"
     },
     "output_type": "display_data"
    }
   ],
   "source": [
    "# Histogram for Close\n",
    "import matplotlib.pyplot as plt\n",
    "\n",
    "# Extract keys (ratings) and values (counts) from defaultdict\n",
    "close_price, counts = zip(*value_count_close.items())\n",
    "\n",
    "# Set a larger figure size\n",
    "plt.figure(figsize=(15, 6))\n",
    "\n",
    "# Plot bar chart\n",
    "plt.bar(close_price, counts, color='blue')\n",
    "plt.xlabel('Close Price')\n",
    "plt.ylabel('Count')\n",
    "plt.title('Close Price Distribution')\n",
    "plt.show()"
   ]
  },
  {
   "cell_type": "code",
   "execution_count": 17,
   "id": "587fd5e2",
   "metadata": {},
   "outputs": [
    {
     "name": "stdout",
     "output_type": "stream",
     "text": [
      "Sum of open:  42387.88001999997\n",
      "Average of Close:  168.3843645277778\n"
     ]
    }
   ],
   "source": [
    "# Find the average of Close\n",
    "    # Sum value\n",
    "close_sum = close_rdd.reduce(lambda x, y: x + y)\n",
    "print(\"Sum of open: \", open_sum)\n",
    "    # Average\n",
    "close_average = close_sum/close_rdd.count()\n",
    "print(\"Average of Close: \", close_average)"
   ]
  }
 ],
 "metadata": {
  "kernelspec": {
   "display_name": "Python 3 (ipykernel)",
   "language": "python",
   "name": "python3"
  },
  "language_info": {
   "codemirror_mode": {
    "name": "ipython",
    "version": 3
   },
   "file_extension": ".py",
   "mimetype": "text/x-python",
   "name": "python",
   "nbconvert_exporter": "python",
   "pygments_lexer": "ipython3",
   "version": "3.10.12"
  }
 },
 "nbformat": 4,
 "nbformat_minor": 5
}
