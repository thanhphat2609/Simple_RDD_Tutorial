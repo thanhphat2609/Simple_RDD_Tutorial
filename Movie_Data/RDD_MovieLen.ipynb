{
 "cells": [
  {
   "cell_type": "markdown",
   "id": "c24b0490",
   "metadata": {},
   "source": [
    "# 1. Import libraries and Create Spark Session + Context #"
   ]
  },
  {
   "cell_type": "code",
   "execution_count": 1,
   "id": "587c3b6f",
   "metadata": {},
   "outputs": [],
   "source": [
    "from pyspark import SparkConf, SparkContext\n",
    "from pyspark.sql import SparkSession, Row\n",
    "import collections"
   ]
  },
  {
   "cell_type": "code",
   "execution_count": 2,
   "id": "85df9e77",
   "metadata": {},
   "outputs": [
    {
     "name": "stderr",
     "output_type": "stream",
     "text": [
      "24/01/23 20:48:37 WARN SparkSession: Using an existing Spark session; only runtime SQL configurations will take effect.\n"
     ]
    }
   ],
   "source": [
    "# Create or get a SparkContext\n",
    "sc = SparkContext.getOrCreate()\n",
    "\n",
    "# Create Spark Session\n",
    "spark = SparkSession.builder.config('spark.cores.max', \"16\") \\\n",
    "                            .config(\"spark.executor.memory\", \"70g\") \\\n",
    "                            .config(\"spark.driver.memory\", \"50g\") \\\n",
    "                            .config(\"spark.memory.offHeap.enabled\",True) \\\n",
    "                            .config(\"spark.memory.offHeap.size\",\"16g\") \\\n",
    "                            .getOrCreate()"
   ]
  },
  {
   "cell_type": "markdown",
   "id": "8acbf475",
   "metadata": {},
   "source": [
    "# 2. Read data into Dataframe and convert to RDD #"
   ]
  },
  {
   "cell_type": "code",
   "execution_count": 3,
   "id": "451efc7f",
   "metadata": {},
   "outputs": [
    {
     "name": "stdout",
     "output_type": "stream",
     "text": [
      "root\n",
      " |-- _c0: integer (nullable = true)\n",
      " |-- _c1: integer (nullable = true)\n",
      " |-- _c2: integer (nullable = true)\n",
      " |-- _c3: integer (nullable = true)\n",
      "\n"
     ]
    }
   ],
   "source": [
    "df_udata = spark.read.csv(\"./ml-100k/u.data\", sep = \"\\t\",inferSchema = True)\n",
    "df_udata.printSchema()"
   ]
  },
  {
   "cell_type": "code",
   "execution_count": 4,
   "id": "bfadb7cc",
   "metadata": {},
   "outputs": [
    {
     "name": "stdout",
     "output_type": "stream",
     "text": [
      "+---+---+---+---------+\n",
      "|_c0|_c1|_c2|      _c3|\n",
      "+---+---+---+---------+\n",
      "|196|242|  3|881250949|\n",
      "|186|302|  3|891717742|\n",
      "| 22|377|  1|878887116|\n",
      "|244| 51|  2|880606923|\n",
      "|166|346|  1|886397596|\n",
      "|298|474|  4|884182806|\n",
      "|115|265|  2|881171488|\n",
      "|253|465|  5|891628467|\n",
      "|305|451|  3|886324817|\n",
      "|  6| 86|  3|883603013|\n",
      "+---+---+---+---------+\n",
      "only showing top 10 rows\n",
      "\n"
     ]
    }
   ],
   "source": [
    "df_udata.show(10)"
   ]
  },
  {
   "cell_type": "code",
   "execution_count": 5,
   "id": "dbb565a2",
   "metadata": {},
   "outputs": [],
   "source": [
    "# Rename column\n",
    "df_udata = df_udata.withColumnRenamed(\"_c0\",\"userID\") \\\n",
    "    .withColumnRenamed(\"_c1\",\"itemID\") \\\n",
    "    .withColumnRenamed(\"_c2\",\"ratings\") \\\n",
    "    .withColumnRenamed(\"_c3\",\"timestamp\")"
   ]
  },
  {
   "cell_type": "code",
   "execution_count": 6,
   "id": "99ffdfef",
   "metadata": {},
   "outputs": [
    {
     "name": "stdout",
     "output_type": "stream",
     "text": [
      "+------+------+-------+---------+\n",
      "|userID|itemID|ratings|timestamp|\n",
      "+------+------+-------+---------+\n",
      "|     1|   202|      5|875072442|\n",
      "|     1|   171|      5|889751711|\n",
      "|     1|    61|      4|878542420|\n",
      "|     1|   253|      5|874965970|\n",
      "|     1|    33|      4|878542699|\n",
      "|     1|   155|      2|878542201|\n",
      "|     1|    20|      4|887431883|\n",
      "|     1|   117|      3|874965739|\n",
      "|     1|   222|      4|878873388|\n",
      "|     1|    47|      4|875072125|\n",
      "+------+------+-------+---------+\n",
      "only showing top 10 rows\n",
      "\n"
     ]
    }
   ],
   "source": [
    "# Sort data\n",
    "df_udata = df_udata.sort(df_udata.userID.asc())\n",
    "\n",
    "# Show data\n",
    "df_udata.show(10)"
   ]
  },
  {
   "cell_type": "code",
   "execution_count": 7,
   "id": "631183f8",
   "metadata": {},
   "outputs": [],
   "source": [
    "# Convert to RDD\n",
    "rdd_ratings = df_udata.rdd"
   ]
  },
  {
   "cell_type": "markdown",
   "id": "a2b2d95b",
   "metadata": {},
   "source": [
    "# 3. Check data with RDD #"
   ]
  },
  {
   "cell_type": "code",
   "execution_count": 8,
   "id": "530619ec",
   "metadata": {},
   "outputs": [
    {
     "name": "stderr",
     "output_type": "stream",
     "text": [
      "\r",
      "[Stage 7:>                                                          (0 + 1) / 1]\r"
     ]
    },
    {
     "name": "stdout",
     "output_type": "stream",
     "text": [
      "Number of rows:  100000\n"
     ]
    },
    {
     "name": "stderr",
     "output_type": "stream",
     "text": [
      "\r",
      "                                                                                \r"
     ]
    }
   ],
   "source": [
    "# Count data\n",
    "print(\"Number of rows: \", rdd_ratings.count())"
   ]
  },
  {
   "cell_type": "code",
   "execution_count": 9,
   "id": "d03b4da1",
   "metadata": {},
   "outputs": [
    {
     "data": {
      "text/plain": [
       "[Row(userID=1, itemID=61, ratings=4, timestamp=878542420),\n",
       " Row(userID=1, itemID=189, ratings=3, timestamp=888732928),\n",
       " Row(userID=1, itemID=33, ratings=4, timestamp=878542699),\n",
       " Row(userID=1, itemID=160, ratings=4, timestamp=875072547),\n",
       " Row(userID=1, itemID=20, ratings=4, timestamp=887431883),\n",
       " Row(userID=1, itemID=202, ratings=5, timestamp=875072442),\n",
       " Row(userID=1, itemID=171, ratings=5, timestamp=889751711),\n",
       " Row(userID=1, itemID=265, ratings=4, timestamp=878542441),\n",
       " Row(userID=1, itemID=155, ratings=2, timestamp=878542201),\n",
       " Row(userID=1, itemID=117, ratings=3, timestamp=874965739)]"
      ]
     },
     "execution_count": 9,
     "metadata": {},
     "output_type": "execute_result"
    }
   ],
   "source": [
    "# Show data\n",
    "rdd_ratings.take(10)"
   ]
  },
  {
   "cell_type": "markdown",
   "id": "34875322",
   "metadata": {},
   "source": [
    "# 4. Show the Ratings with Histogram #"
   ]
  },
  {
   "cell_type": "code",
   "execution_count": 10,
   "id": "8dbe97b6",
   "metadata": {},
   "outputs": [
    {
     "data": {
      "text/plain": [
       "[4, 3, 4, 4, 4, 5, 5, 4, 2, 3]"
      ]
     },
     "execution_count": 10,
     "metadata": {},
     "output_type": "execute_result"
    }
   ],
   "source": [
    "# Create ratings_rdd\n",
    "ratings_rdd = rdd_ratings.map(lambda row: row.ratings)\n",
    "ratings_rdd.take(10)"
   ]
  },
  {
   "cell_type": "code",
   "execution_count": 11,
   "id": "0b2d6c21",
   "metadata": {},
   "outputs": [
    {
     "data": {
      "text/plain": [
       "defaultdict(int, {4: 34174, 3: 27145, 5: 21201, 2: 11370, 1: 6110})"
      ]
     },
     "execution_count": 11,
     "metadata": {},
     "output_type": "execute_result"
    }
   ],
   "source": [
    "# Count appear for each value\n",
    "value_count = ratings_rdd.countByValue()\n",
    "value_count"
   ]
  },
  {
   "cell_type": "code",
   "execution_count": 12,
   "id": "4e63415e",
   "metadata": {},
   "outputs": [
    {
     "data": {
      "image/png": "[encoded data removed]",
      "text/plain": [
       "<Figure size 432x288 with 1 Axes>"
      ]
     },
     "metadata": {
      "needs_background": "light"
     },
     "output_type": "display_data"
    }
   ],
   "source": [
    "import matplotlib.pyplot as plt\n",
    "\n",
    "# Extract keys (ratings) and values (counts) from defaultdict\n",
    "ratings, counts = zip(*value_count.items())\n",
    "\n",
    "# Plot bar chart\n",
    "plt.bar(ratings, counts, color='blue')\n",
    "plt.xlabel('Ratings')\n",
    "plt.ylabel('Count')\n",
    "plt.title('Rating Distribution')\n",
    "plt.show()"
   ]
  }
 ],
 "metadata": {
  "kernelspec": {
   "display_name": "Python 3 (ipykernel)",
   "language": "python",
   "name": "python3"
  },
  "language_info": {
   "codemirror_mode": {
    "name": "ipython",
    "version": 3
   },
   "file_extension": ".py",
   "mimetype": "text/x-python",
   "name": "python",
   "nbconvert_exporter": "python",
   "pygments_lexer": "ipython3",
   "version": "3.10.12"
  }
 },
 "nbformat": 4,
 "nbformat_minor": 5
}
